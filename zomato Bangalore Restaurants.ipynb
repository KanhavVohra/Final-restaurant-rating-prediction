version https://git-lfs.github.com/spec/v1
oid sha256:0d280b55ca5e918f7171aff3053a22c65bfa8d18e9e14ebf7649f7adc8ff8793
size 395438
